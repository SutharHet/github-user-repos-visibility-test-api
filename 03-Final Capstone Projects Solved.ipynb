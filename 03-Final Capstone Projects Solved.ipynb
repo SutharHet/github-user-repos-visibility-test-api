{
 "cells": [
  {
   "cell_type": "markdown",
   "metadata": {},
   "source": [
    "# List of Capstone Projects\n",
    "\n",
    "This list contains around 100 project ideas for you to try out in Python! Some of them are straightforward and others we have done before (such as a Fibonacci Sequence or FizzBuzz). \n",
    "\n",
    "Pick a simple project that you think you can finish in a day to start off with, then pick another project that you think will take you more than a week and extensive Googling!\n",
    "\n",
    "There are some sample solutions in this folder as well so feel free to explore and remember:\n",
    "\n",
    "**HAVE FUN!**"
   ]
  },
  {
   "cell_type": "markdown",
   "metadata": {},
   "source": [
    "Numbers\n",
    "---------\n",
    "\n",
    "**Find PI to the Nth Digit** - Enter a number and have the program generate &pi; (pi) up to that many decimal places. Keep a limit to how far the program will go."
   ]
  },
  {
   "cell_type": "code",
   "execution_count": 23,
   "metadata": {},
   "outputs": [
    {
     "name": "stdout",
     "output_type": "stream",
     "text": [
      "Precision must be between 1 and 20 : 5\n",
      "3.14159\n"
     ]
    }
   ],
   "source": [
    "# Find PI to the Nth Digit \n",
    "import math\n",
    "from decimal import Decimal\n",
    "\n",
    "while True:\n",
    "  try:\n",
    "    precision = int(input('Precision must be between 1 and 20 : '))\n",
    "  except:\n",
    "    print('Invalid Input')\n",
    "  else:\n",
    "    if precision > 20 or precision < 0:\n",
    "      print('Input value higher than 20')\n",
    "      continue\n",
    "    break\n",
    "\n",
    "zeros = '0'*precision\n",
    "limit = '1.'+zeros\n",
    "pi = Decimal(math.pi).quantize(Decimal(limit))\n",
    "print(pi)"
   ]
  },
  {
   "cell_type": "markdown",
   "metadata": {},
   "source": [
    "**Find e to the Nth Digit** - Just like the previous problem, but with e instead of &pi; (pi). Enter a number and have the program generate e up to that many decimal places. Keep a limit to how far the program will go."
   ]
  },
  {
   "cell_type": "code",
   "execution_count": 24,
   "metadata": {},
   "outputs": [
    {
     "name": "stdout",
     "output_type": "stream",
     "text": [
      "Precision must be between 1 and 20 : 5\n",
      "2.71828\n"
     ]
    }
   ],
   "source": [
    "# Find e to the Nth Digit\n",
    "import math\n",
    "\n",
    "def e_with_precision(n):\n",
    "  return '%.*f' % (n, math.e)\n",
    "\n",
    "if __name__ == '__main__':\n",
    "  correct_input = False\n",
    "  while True:\n",
    "      precision = int(input('Precision must be between 1 and 20 : '))\n",
    "      if precision > 0 and precision < 20:\n",
    "        print(e_with_precision(precision))\n",
    "        break"
   ]
  },
  {
   "cell_type": "markdown",
   "metadata": {},
   "source": [
    "**Fibonacci Sequence** - Enter a number and have the program generate the Fibonacci sequence to that number or to the Nth number."
   ]
  },
  {
   "cell_type": "code",
   "execution_count": 2,
   "metadata": {},
   "outputs": [
    {
     "name": "stdout",
     "output_type": "stream",
     "text": [
      "length of fibonacci : 7\n",
      "[0, 1, 1, 2, 3, 5, 8]\n"
     ]
    }
   ],
   "source": [
    "# Fibonacci Sequence\n",
    "lt = [0]\n",
    "def func(num):\n",
    "  if num == 0:\n",
    "    print('Invalid Input')\n",
    "    quit()\n",
    "  if num == 1:\n",
    "    return\n",
    "  a = 0\n",
    "  b = 1\n",
    "  for i in range(num-1):\n",
    "    a,b = b,a+b\n",
    "    lt.append(a)\n",
    "\n",
    "num = int(input('length of fibonacci : '))\n",
    "func(num)\n",
    "\n",
    "print(lt)"
   ]
  },
  {
   "cell_type": "markdown",
   "metadata": {},
   "source": [
    "**Prime Factorization** - Have the user enter a number and find all Prime Factors (if there are any) and display them."
   ]
  },
  {
   "cell_type": "code",
   "execution_count": 25,
   "metadata": {},
   "outputs": [
    {
     "name": "stdout",
     "output_type": "stream",
     "text": [
      "Enter number : 20\n",
      "prime factors of 20 are [2, 2, 5]\n"
     ]
    }
   ],
   "source": [
    "# Prime Factorization\n",
    "\n",
    "def sieve_of_eratosthenes(n):\n",
    "  primes = [True for x in range(n+1)]\n",
    "  i = 2\n",
    "  while(i*i < n):\n",
    "\n",
    "    if primes[i] == True:\n",
    "      for x in range(i*i,n+1,i):\n",
    "        primes[x] = False\n",
    "    i+=1\n",
    "\n",
    "  prime_nums = []\n",
    "  for x in range(2,n+1):\n",
    "    if primes[x]:\n",
    "      prime_nums.append(x)\n",
    "  \n",
    "  return prime_nums  \n",
    "  \n",
    "\n",
    "def prime_factors(num,primes):\n",
    "  factors = []\n",
    "  for x in primes:\n",
    "    while num%x == 0:\n",
    "      factors.append(x)\n",
    "      num /=x\n",
    "      if num == 1:\n",
    "        break \n",
    "  return factors\n",
    "\n",
    "num = int(input('Enter number : '))\n",
    "\n",
    "primes = sieve_of_eratosthenes(num)\n",
    "\n",
    "factors = prime_factors(num,primes)\n",
    "\n",
    "print('prime factors of {} are {}'.format(num,factors))"
   ]
  },
  {
   "cell_type": "markdown",
   "metadata": {},
   "source": [
    "**Next Prime Number** - Have the program find prime numbers until the user chooses to stop asking for the next one.\n",
    "\n",
    "**Find Cost of Tile to Cover W x H Floor** - Calculate the total cost of tile it would take to cover a floor plan of width and height, using a cost entered by the user."
   ]
  },
  {
   "cell_type": "code",
   "execution_count": 26,
   "metadata": {},
   "outputs": [
    {
     "name": "stdout",
     "output_type": "stream",
     "text": [
      "Enter width in meters : 2\n",
      "Enter height in meters : 2\n",
      "Enter price of tile per meter : 10\n",
      "Cost would be : 40\n"
     ]
    }
   ],
   "source": [
    "# Find Cost of Tile to Cover W x H Floor\n",
    "\n",
    "def cost(w,h,price):\n",
    "  cover = w*h\n",
    "  cost = cover * price\n",
    "  print('Cost would be : ' + str(cost))\n",
    "\n",
    "w = int(input('Enter width in meters : '))\n",
    "h = int(input('Enter height in meters : '))\n",
    "price = int(input('Enter price of tile per meter : '))\n",
    "\n",
    "cost(w,h,price)"
   ]
  },
  {
   "cell_type": "markdown",
   "metadata": {},
   "source": [
    "**Mortgage Calculator** - Calculate the monthly payments of a fixed term mortgage over given Nth terms at a given interest rate. Also figure out how long it will take the user to pay back the loan. For added complexity, add an option for users to select the compounding interval (Monthly, Weekly, Daily, Continually).\n",
    "\n",
    "**Change Return Program** - The user enters a cost and then the amount of money given. The program will figure out the change and the number of quarters, dimes, nickels, pennies needed for the change.\n",
    "\n",
    "**Binary to Decimal and Back Converter** - Develop a converter to convert a decimal number to binary or a binary number to its decimal equivalent."
   ]
  },
  {
   "cell_type": "code",
   "execution_count": 6,
   "metadata": {},
   "outputs": [
    {
     "name": "stdout",
     "output_type": "stream",
     "text": [
      "Choose optins(1/2) \n",
      "\t1. Binary to Decimal \t 2 .Decimal to Binary : 1\n",
      "Enter Binary Value : 11001\n",
      "11001 to Binary is 25\n"
     ]
    }
   ],
   "source": [
    "# Binary to Decimal and Back Converter \n",
    "def dec_to_bin():\n",
    "  while True:\n",
    "    try:\n",
    "      val = int(input('\\nEnter Decimal Value : '))\n",
    "      print('{} to Binary is {}'.format(val,bin(val)))\n",
    "      break\n",
    "    except:\n",
    "      print('Invalid Input! Please Enter Decimal')\n",
    "  quit()\n",
    "\n",
    "def bin_to_dec():\n",
    "  while True:\n",
    "    try:\n",
    "      val = input('\\nEnter Binary Value : ')\n",
    "      print('{} to Binary is {}'.format(val,int(val,2)))\n",
    "      break\n",
    "    except:\n",
    "      print('Invalid Input! Please Enter Binary')\n",
    "  quit()\n",
    "\n",
    "\n",
    "while True:\n",
    "  try:\n",
    "    choice = int(input('Choose optins(1/2) \\n\\t1. Binary to Decimal \\t 2 .Decimal to Binary : '))\n",
    "    if choice in [1,2]:\n",
    "      if choice == 1:\n",
    "        bin_to_dec()\n",
    "      else:\n",
    "        dec_to_bin()\n",
    "    break\n",
    "  except:\n",
    "    print('Invalid Choice')"
   ]
  },
  {
   "cell_type": "markdown",
   "metadata": {},
   "source": [
    "**Calculator** - A simple calculator to do basic operators. Make it a scientific calculator for added complexity."
   ]
  },
  {
   "cell_type": "code",
   "execution_count": 18,
   "metadata": {},
   "outputs": [
    {
     "name": "stdout",
     "output_type": "stream",
     "text": [
      "Enter Basic equation : 11/2\n",
      "Division is : 5.5\n"
     ]
    }
   ],
   "source": [
    "# Basic Calculator\n",
    "def sum(val1,val2):\n",
    "  return val1+val2\n",
    "def sub(val1,val2):\n",
    "  return val1-val2\n",
    "def multi(val1,val2):\n",
    "  return val1*val2\n",
    "def divide(val1,val2):\n",
    "  return val1/val2\n",
    "\n",
    "op = input('Enter Basic equation : ')\n",
    "\n",
    "for i in range(len(op)):\n",
    "  if op[i] in ['+','-','*','/','x']:\n",
    "    val1 = int(op[:i])\n",
    "    val2 = int(op[i+1:])\n",
    "    if op[i] == '+':\n",
    "      print('Sum is : ' + str(sum(val1,val2)))\n",
    "    elif op[i] == '-':\n",
    "      print('Subtraction is : ' + str(sub(val1,val2)))\n",
    "    elif op[i] == '*' or op[i] =='x':\n",
    "      print('multiplication is : ' + str(multi(val1,val2)))\n",
    "    else:\n",
    "      print('Division is : ' + str(divide(val1,val2)))"
   ]
  },
  {
   "cell_type": "markdown",
   "metadata": {},
   "source": [
    "**Unit Converter (temp, currency, volume, mass and more)** - Converts various units between one another. The user enters the type of unit being entered, the type of unit they want to convert to and then the value. The program will then make the conversion.\n",
    "\n",
    "**Alarm Clock** - A simple clock where it plays a sound after X number of minutes/seconds or at a particular time.\n",
    "\n",
    "**Distance Between Two Cities** - Calculates the distance between two cities and allows the user to specify a unit of distance. This program may require finding coordinates for the cities like latitude and longitude.\n",
    "\n",
    "**Credit Card Validator** - Takes in a credit card number from a common credit card vendor (Visa, MasterCard, American Express, Discoverer) and validates it to make sure that it is a valid number (look into how credit cards use a checksum)."
   ]
  },
  {
   "cell_type": "code",
   "execution_count": 19,
   "metadata": {},
   "outputs": [
    {
     "name": "stdout",
     "output_type": "stream",
     "text": [
      "Input cradit card number : 378282246310005\n",
      "Invalid Card\n"
     ]
    }
   ],
   "source": [
    "'''\n",
    "Starting with the first digit, multiply every second digit by 2\n",
    "\n",
    "Every time you have a two-digit number, just add those digits together for a one-digit result\n",
    "\n",
    "Finally, add all the numbers together\n",
    "\n",
    "When this number is added to the check digit, then the result must be an multiple of 10\n",
    "The number is therefore valid. If the algorithm doesn't produce a multiple of 10, then the card number cannot be valid.\n",
    "\n",
    "'''\n",
    "# Credit Card Validator\n",
    "\n",
    "def validator(num):\n",
    "  if len(num) < 16:\n",
    "    print('Invalid Card')\n",
    "    return\n",
    "  lst = list(num)\n",
    "  lst.pop()\n",
    "\n",
    "  for i in range(0,len(lst),2):\n",
    "    double = str(int(lst[i])*2)\n",
    "    if len(double) == 2:\n",
    "      lst[i] = int(double[0])+int(double[1])\n",
    "    else:\n",
    "      lst[i] = int(double)\n",
    "  \n",
    "  for i in range(len(lst)):\n",
    "    lst[i] = int(lst[i])\n",
    "    \n",
    "  total = sum(lst)\n",
    "\n",
    "  if total%10 == 0:\n",
    "    print('Valid Card')\n",
    "  else:\n",
    "    print('Invalid Card')\n",
    "\n",
    "\n",
    "num = input('Input cradit card number : ')\n",
    "validator(num)"
   ]
  },
  {
   "cell_type": "markdown",
   "metadata": {},
   "source": [
    "**Tax Calculator** - Asks the user to enter a cost and either a country or state tax. It then returns the tax plus the total cost with tax."
   ]
  },
  {
   "cell_type": "code",
   "execution_count": 27,
   "metadata": {},
   "outputs": [
    {
     "name": "stdout",
     "output_type": "stream",
     "text": [
      "Enter cost : 100\n",
      "Enter country or state cost in % : 20\n",
      "Total cost is 120.0$ including tax 20.0$\n"
     ]
    }
   ],
   "source": [
    "# Tax Calculator\n",
    "\n",
    "def country_tax(cost,tax):\n",
    "  tax = tax/100\n",
    "  return cost*tax\n",
    "\n",
    "def total_cost(cost,tax):\n",
    "  tax = country_tax(cost,tax)\n",
    "  cost = cost + tax\n",
    "  print('Total cost is '+str(cost)+'$ including tax '+str(tax)+'$')\n",
    "\n",
    "cost = int(input('Enter cost : '))\n",
    "tax = int(input('Enter country or state cost in % : '))\n",
    "total_cost(cost,tax)"
   ]
  },
  {
   "cell_type": "markdown",
   "metadata": {},
   "source": [
    "**Factorial Finder** - The Factorial of a positive integer, n, is defined as the product of the sequence n, n-1, n-2, ...1 and the factorial of zero, 0, is defined as being 1. Solve this using both loops and recursion."
   ]
  },
  {
   "cell_type": "code",
   "execution_count": 1,
   "metadata": {},
   "outputs": [
    {
     "name": "stdout",
     "output_type": "stream",
     "text": [
      "Enter num for factorial : 5\n",
      "choose\n",
      "\t1.Through Recursion\t2.Through Loop : 1\n",
      "Factorial of 5 is 120\n"
     ]
    }
   ],
   "source": [
    "# Factorial Finder\n",
    "def through_recusion(num):\n",
    "  if num == 0:\n",
    "    return 1\n",
    "  return num*through_recusion(num-1)\n",
    "\n",
    "def through_loop(num):\n",
    "  ans = 1\n",
    "  for n in range(1,num+1):\n",
    "    ans *= n\n",
    "  return ans\n",
    "\n",
    "def choice(num):\n",
    "  ans = 0\n",
    "  while True:\n",
    "    try:\n",
    "      user_choice = int(input('choose\\n\\t1.Through Recursion\\t2.Through Loop : '))\n",
    "      if user_choice in [1,2]:\n",
    "        if user_choice == 1:\n",
    "          ans = through_recusion(num)\n",
    "          break\n",
    "        else:\n",
    "          ans = through_loop(num)\n",
    "          break\n",
    "      else:\n",
    "        print('Invalid NUmber')\n",
    "    except:\n",
    "      print('Invalid Input! Enter a Number')\n",
    "  \n",
    "  print('Factorial of {} is {}'.format(num,ans))\n",
    "\n",
    "\n",
    "while True:\n",
    "  try:\n",
    "    num = int(input('Enter num for factorial : '))\n",
    "    choice(num)\n",
    "    break\n",
    "  except:\n",
    "    print('Invlid Input')"
   ]
  },
  {
   "cell_type": "markdown",
   "metadata": {},
   "source": [
    "**Complex Number Algebra** - Show addition, multiplication, negation, and inversion of complex numbers in separate functions. (Subtraction and division operations can be made with pairs of these operations.) Print the results for each operation tested.\n",
    "\n",
    "**Happy Numbers** - A happy number is defined by the following process. Starting with any positive integer, replace the number by the sum of the squares of its digits, and repeat the process until the number equals 1 (where it will stay), or it loops endlessly in a cycle which does not include 1. Those numbers for which this process ends in 1 are happy numbers, while those that do not end in 1 are unhappy numbers. Display an example of your output here. Find first 8 happy numbers.\n",
    "\n",
    "**Number Names** - Show how to spell out a number in English. You can use a preexisting implementation or roll your own, but you should support inputs up to at least one million (or the maximum value of your language's default bounded integer type, if that's less). *Optional: Support for inputs other than positive integers (like zero, negative integers, and floating-point numbers).*\n",
    "\n",
    "**Coin Flip Simulation** - Write some code that simulates flipping a single coin however many times the user decides. The code should record the outcomes and count the number of tails and heads."
   ]
  },
  {
   "cell_type": "code",
   "execution_count": 1,
   "metadata": {},
   "outputs": [
    {
     "name": "stdout",
     "output_type": "stream",
     "text": [
      "How many time should coin be fliped? : 5\n",
      "\u001b[H\u001b[2J\n",
      "Result of round 1 is Head\n",
      "Result of round 2 is Head\n",
      "Result of round 3 is Tail\n",
      "Result of round 4 is Tail\n",
      "Result of round 5 is Head\n",
      "\n",
      "Number of Head is : 3\n",
      "Number of Tail is : 2\n"
     ]
    }
   ],
   "source": [
    "# Coin Flip Simulation\n",
    "\n",
    "from collections import Counter\n",
    "import random\n",
    "import os \n",
    "clear = lambda: os.system('clear')\n",
    "\n",
    "ans = []\n",
    "\n",
    "def flip():\n",
    "  sides = ['Head','Tail']\n",
    "  rand_side = random.choice(sides)\n",
    "  ans.append(rand_side)\n",
    "\n",
    "def result():\n",
    "  if ans:\n",
    "    clear()\n",
    "    \n",
    "    rounds = [x for x in range(1,len(ans)+1)]\n",
    "    records = zip(rounds, ans)\n",
    "    result = Counter(ans)\n",
    "    heads = result['Head']\n",
    "    tails = result['Tail']\n",
    "    print()\n",
    "    for x in records:\n",
    "      print('Result of round '+ str(x[0]) +' is ' + x[1])\n",
    "    \n",
    "    print()\n",
    "    print('Number of Head is : ' + str(heads))\n",
    "    print('Number of Tail is : ' + str(tails)) \n",
    "\n",
    "while True:\n",
    "  try:\n",
    "    choice = int(input('How many time should coin be fliped? : '))\n",
    "  except:\n",
    "    print('Invalid Input!')\n",
    "    continue\n",
    "\n",
    "  for i in range(choice):\n",
    "    flip()\n",
    "  \n",
    "  result()\n",
    "  break"
   ]
  },
  {
   "cell_type": "markdown",
   "metadata": {},
   "source": [
    "**Limit Calculator** - Ask the user to enter f(x) and the limit value, then return the value of the limit statement *Optional: Make the calculator capable of supporting infinite limits.*\n",
    "\n",
    "**Fast Exponentiation** - Ask the user to enter 2 integers a and b and output a^b (i.e. pow(a,b)) in O(lg n) time complexity.\n",
    "\n",
    "Classic Algorithms\n",
    "-----------------\n",
    "\n",
    "**Collatz Conjecture** - Start with a number *n > 1*. Find the number of steps it takes to reach one using the following process: If *n* is even, divide it by 2. If *n* is odd, multiply it by 3 and add 1."
   ]
  },
  {
   "cell_type": "code",
   "execution_count": 13,
   "metadata": {},
   "outputs": [
    {
     "name": "stdout",
     "output_type": "stream",
     "text": [
      "Enter Number : 3\n",
      "it takes 7 steps\n"
     ]
    }
   ],
   "source": [
    "# Collatz Conjecture\n",
    "\n",
    "def collatz_conjecture(n):\n",
    "  count = 0\n",
    "  while n != 1:\n",
    "    if n%2 == 0:\n",
    "      n /= 2\n",
    "      count += 1\n",
    "    else:\n",
    "      n = n*3 + 1\n",
    "      count += 1\n",
    "  print('it takes '+str(count)+' steps')\n",
    "\n",
    "\n",
    "num = int(input('Enter Number : '))\n",
    "\n",
    "collatz_conjecture(num)\n"
   ]
  },
  {
   "cell_type": "markdown",
   "metadata": {},
   "source": [
    "**Sorting** - Implement two types of sorting algorithms: Merge sort and bubble sort."
   ]
  },
  {
   "cell_type": "code",
   "execution_count": 17,
   "metadata": {},
   "outputs": [
    {
     "name": "stdout",
     "output_type": "stream",
     "text": [
      "sorted list is :[2, 2, 3, 3, 4, 5, 7, 8, 61]\n"
     ]
    }
   ],
   "source": [
    "# bubble Sort\n",
    "def bubble_sort(vals):\n",
    "  n = len(vals)\n",
    "  for i in range(n):\n",
    "    for j in range(0, n-i-1):\n",
    "      if vals[j] > vals[j+1]:\n",
    "        vals[j], vals[j+1] = vals[j+1], vals[j]\n",
    "  print('sorted list is :' + str(vals))\n",
    "\n",
    "bubble_sort([2,3,4,5,61,2,3,7,8])\n",
    "\n",
    "# Merge Sort\n",
    "def merge_sort():\n",
    "    pass"
   ]
  },
  {
   "cell_type": "markdown",
   "metadata": {},
   "source": [
    "**Closest pair problem** - The closest pair of points problem or closest pair problem is a problem of computational geometry: given *n* points in metric space, find a pair of points with the smallest distance between them.\n",
    "\n",
    "**Sieve of Eratosthenes** - The sieve of Eratosthenes is one of the most efficient ways to find all of the smaller primes (below 10 million or so)."
   ]
  },
  {
   "cell_type": "code",
   "execution_count": 2,
   "metadata": {},
   "outputs": [
    {
     "name": "stdout",
     "output_type": "stream",
     "text": [
      "Enter number : 10\n",
      "2\n",
      "3\n",
      "5\n",
      "7\n"
     ]
    }
   ],
   "source": [
    "# Sieve of Eratosthenes\n",
    "def sieve_of_eratosthenes(n):\n",
    "  primes = [True for x in range(n+1)]\n",
    "  i = 2\n",
    "  while(i*i < n):\n",
    "\n",
    "    if primes[i] == True:\n",
    "      for x in range(i*i,n+1,i):\n",
    "        primes[x] = False\n",
    "    i+=1\n",
    "\n",
    "\n",
    "  for x in range(2,n+1):\n",
    "    if primes[x]:\n",
    "      print(x)\n",
    "\n",
    "while True:\n",
    "  try:\n",
    "    num = int(input('Enter number : '))\n",
    "    if num > 0 and num < pow(10,4):\n",
    "      sieve_of_eratosthenes(num)\n",
    "      break\n",
    "  except:\n",
    "    print('Invalid Value')"
   ]
  },
  {
   "cell_type": "markdown",
   "metadata": {},
   "source": [
    "Graph\n",
    "--------\n",
    "\n",
    "**Graph from links** - Create a program that will create a graph or network from a series of links.\n",
    "\n",
    "**Eulerian Path** - Create a program which will take as an input a graph and output either a Eulerian path or a Eulerian cycle, or state that it is not possible.  A Eulerian Path starts at one node and traverses every edge of a graph  through every node and finishes at another node.  A Eulerian cycle is a eulerian Path that starts and finishes at the same node.\n",
    "\n",
    "**Connected Graph** - Create a program which takes a graph as an input and outputs whether every node is connected or not.\n",
    "\n",
    "**Dijkstra’s Algorithm** - Create a program that finds the shortest path through a graph using its edges.\n",
    "\n",
    "**Minimum Spanning Tree** - Create a program which takes a connected, undirected graph with weights and outputs the minimum spanning tree of the graph i.e., a\n",
    "subgraph that is a tree, contains all the vertices, and the sum of its weights is the least possible.\n",
    "\n",
    "\n",
    "Data Structures\n",
    "---------\n",
    "\n",
    "**Inverted index** - An [Inverted Index](http://en.wikipedia.org/wiki/Inverted_index) is a data structure used to create full text search. Given a set of text files, implement a program to create an inverted index. Also create a user interface to do a search using that inverted index which returns a list of files that contain the query term / terms. The search index can be in memory.\n"
   ]
  },
  {
   "cell_type": "markdown",
   "metadata": {},
   "source": [
    "Text\n",
    "---------\n",
    "\n",
    "**Fizz Buzz** - Write a program that prints the numbers from 1 to 100. But for multiples of three print “Fizz” instead of the number and for the multiples of five print “Buzz”. For numbers which are multiples of both three and five print “FizzBuzz”."
   ]
  },
  {
   "cell_type": "code",
   "execution_count": 4,
   "metadata": {},
   "outputs": [],
   "source": [
    "# Fizz Buzz\n",
    "for x in range(101):\n",
    "    if x%3 == 0 and x%5 == 0:\n",
    "        print('FizzBuzz')\n",
    "    elif x%3==0:\n",
    "        print('Buzz')\n",
    "    elif x%5 == 0:\n",
    "        print('Fizz')"
   ]
  },
  {
   "cell_type": "markdown",
   "metadata": {},
   "source": [
    "**Reverse a String** - Enter a string and the program will reverse it and print it out."
   ]
  },
  {
   "cell_type": "code",
   "execution_count": 3,
   "metadata": {},
   "outputs": [
    {
     "name": "stdout",
     "output_type": "stream",
     "text": [
      "Enter a string : onetwo\n",
      "reverse of 'onetwo' is : owteno\n"
     ]
    }
   ],
   "source": [
    "string = input('Enter a string : ')\n",
    "rev_list = list(string)\n",
    "rev_list.reverse()\n",
    "rev_str = \"\".join(rev_list)\n",
    "print(\"reverse of '{}' is : {}\".format(string,rev_str))"
   ]
  },
  {
   "cell_type": "markdown",
   "metadata": {},
   "source": [
    "**Pig Latin** - Pig Latin is a game of alterations played on the English language game. To create the Pig Latin form of an English word the initial consonant sound is transposed to the end of the word and an ay is affixed (Ex.: \"banana\" would yield anana-bay). Read Wikipedia for more information on rules."
   ]
  },
  {
   "cell_type": "code",
   "execution_count": 4,
   "metadata": {},
   "outputs": [
    {
     "name": "stdout",
     "output_type": "stream",
     "text": [
      "Enter a String : hellow\n",
      "ellowhay\n"
     ]
    }
   ],
   "source": [
    "# Pig Latin\n",
    "def convert(word):\n",
    "  vowels = ['a','e','i','o','u']\n",
    "  word_list = list(word.lower())\n",
    "\n",
    "  if word_list[0].lower() in vowels:\n",
    "    word_list.append('yay')\n",
    "  else: \n",
    "    for i in range(len(word_list)):\n",
    "      if word_list[0] not in vowels:\n",
    "        word_list.append(word_list.pop(0))\n",
    "      else:\n",
    "        word_list.append('ay')\n",
    "        break\n",
    "  \n",
    "  word = \"\".join(word_list)\n",
    "  print(word)\n",
    "  \n",
    "\n",
    "string = input('Enter a String : ')\n",
    "convert(string)\n"
   ]
  },
  {
   "cell_type": "markdown",
   "metadata": {},
   "source": [
    "**Count Vowels** - Enter a string and the program counts the number of vowels in the text. For added complexity have it report a sum of each vowel found."
   ]
  },
  {
   "cell_type": "code",
   "execution_count": 4,
   "metadata": {
    "scrolled": true
   },
   "outputs": [
    {
     "name": "stdout",
     "output_type": "stream",
     "text": [
      "o : 44\n",
      "e : 105\n",
      "i : 99\n",
      "u : 91\n",
      "a : 66\n"
     ]
    }
   ],
   "source": [
    "# Count Vowels\n",
    "from collections import Counter\n",
    "import re\n",
    "\n",
    "string = 'Lorem ipsum dolor sit amet, consectetur adipiscing elit. Cras ac augue id neque aliquam elementum. Pellentesque placerat vestibulum felis id pellentesque. Fusce neque sapien, maximus quis ipsum quis, mollis fringilla tortor. Ut vel aliquam leo. Curabitur sit amet nunc quis augue finibus interdum ut quis augue. Mauris tristique scelerisque purus, nec lacinia sem pellentesque quis. Nunc vel pretium sem. Nunc consequat ipsum justo, ut molestie lacus pharetra laoreet. Proin faucibus molestie magna, eget finibus nisl accumsan id. Morbi feugiat orci porttitor, eleifend lorem eget, imperdiet tortor. Vivamus sollicitudin, dolor non dapibus tempus, nulla diam placerat enim, nec condimentum tortor ante in dolor. Quisque ultrices, massa in interdum faucibus, tellus urna aliquam eros, sit amet laoreet nibh turpis vel mauris. Ut dictum, elit eu eleifend ultrices, risus justo pharetra ligula, id cursus nulla tortor vitae urna. Donec tristique cursus felis, finibus molestie ante rhoncus sed. Ut varius, nunc a malesuada posuere, sem ligula sollicitudin velit, et feugiat urna nisi a nibh. Ut nec odio mattis, euismod est id, mattis leo.'\n",
    "\n",
    "string = re.sub('[^aeiou]',\"\",string)\n",
    "unique = Counter(list(string))\n",
    "\n",
    "for vowel, ammount in unique.items():\n",
    "  print(vowel + \" : \" + str(ammount))"
   ]
  },
  {
   "cell_type": "markdown",
   "metadata": {},
   "source": [
    "**Check if Palindrome** - Checks if the string entered by the user is a palindrome. That is that it reads the same forwards as backwards like “racecar”"
   ]
  },
  {
   "cell_type": "code",
   "execution_count": 5,
   "metadata": {},
   "outputs": [
    {
     "name": "stdout",
     "output_type": "stream",
     "text": [
      "It's a Pelindrome!\n"
     ]
    }
   ],
   "source": [
    "# Check if Palindrome\n",
    "\n",
    "string = 'redivider'\n",
    "\n",
    "s_list = list(string)\n",
    "s_list.reverse()\n",
    "rev_str = \"\".join(s_list)\n",
    "\n",
    "if rev_str == string:\n",
    "  print('It\\'s a Pelindrome!')\n",
    "else:\n",
    "  print('It\\'s not a pelindrome')"
   ]
  },
  {
   "cell_type": "markdown",
   "metadata": {},
   "source": [
    "**Count Words in a String** - Counts the number of individual words in a string. For added complexity read these strings in from a text file and generate a summary."
   ]
  },
  {
   "cell_type": "code",
   "execution_count": 1,
   "metadata": {},
   "outputs": [
    {
     "name": "stdout",
     "output_type": "stream",
     "text": [
      "Lorem : 1\n",
      "ipsum : 4\n",
      "dolor : 4\n",
      "sit : 11\n",
      "amet, : 2\n",
      "consectetur : 2\n",
      "adipiscing : 1\n",
      "elit. : 2\n",
      "Duis : 2\n",
      "lobortis : 1\n",
      "venenatis : 4\n",
      "euismod. : 1\n",
      "Aenean : 4\n",
      "mi : 4\n",
      "mi, : 1\n",
      "hendrerit : 2\n",
      "sed : 7\n",
      "lorem : 1\n",
      "vel, : 3\n",
      "tempor : 1\n",
      "bibendum : 2\n",
      "massa. : 1\n",
      "Mauris : 2\n",
      "arcu : 2\n",
      "arcu, : 1\n",
      "euismod : 2\n",
      "in : 6\n",
      "cursus : 2\n",
      "ultrices : 4\n",
      "quis : 3\n",
      "lacus. : 1\n",
      "Nulla : 7\n",
      "odio, : 1\n",
      "volutpat : 3\n",
      "eget : 7\n",
      "ullamcorper : 4\n",
      "quis, : 1\n",
      "laoreet : 2\n",
      "et : 5\n",
      "justo. : 2\n",
      "Pellentesque : 2\n",
      "odio : 1\n",
      "nibh, : 1\n",
      "tincidunt : 4\n",
      "massa : 3\n",
      "mattis : 3\n",
      "odio. : 1\n",
      "Aliquam : 2\n",
      "vitae : 5\n",
      "convallis : 2\n",
      "augue, : 1\n",
      "at : 6\n",
      "condimentum : 3\n",
      "neque. : 2\n",
      "dui : 1\n",
      "tempus : 2\n",
      "mattis. : 1\n",
      "Etiam : 1\n",
      "lorem. : 2\n",
      "Vestibulum : 5\n",
      "erat : 2\n",
      "nunc, : 1\n",
      "vestibulum : 2\n",
      "nunc : 3\n",
      "nec, : 2\n",
      "blandit : 3\n",
      "commodo : 2\n",
      "felis. : 1\n",
      "dignissim : 2\n",
      "neque : 3\n",
      "risus : 3\n",
      "malesuada, : 1\n",
      "posuere : 1\n",
      "velit : 1\n",
      "rutrum. : 1\n",
      "eros : 1\n",
      "dapibus. : 1\n",
      "Morbi : 4\n",
      "suscipit : 3\n",
      "est. : 2\n",
      "Vivamus : 2\n",
      "turpis. : 1\n",
      "Ut : 3\n",
      "Curabitur : 2\n",
      "porttitor : 3\n",
      "dolor. : 1\n",
      "Quisque : 2\n",
      "non : 5\n",
      "urna : 1\n",
      "porttitor, : 1\n",
      "ac, : 2\n",
      "enim. : 1\n",
      "Donec : 4\n",
      "fermentum : 2\n",
      "nibh : 2\n",
      "dolor, : 1\n",
      "dapibus : 3\n",
      "tellus : 3\n",
      "mollis : 1\n",
      "amet. : 2\n",
      "Sed : 4\n",
      "luctus : 1\n",
      "sodales : 2\n",
      "vehicula. : 1\n",
      "eu : 6\n",
      "magna : 2\n",
      "aliquet. : 1\n",
      "Cras : 1\n",
      "pretium : 2\n",
      "vel : 1\n",
      "orci : 4\n",
      "id : 5\n",
      "auctor. : 1\n",
      "ultrices, : 1\n",
      "sem : 1\n",
      "facilisis : 2\n",
      "ante. : 1\n",
      "sollicitudin : 5\n",
      "nisl : 1\n",
      "luctus. : 1\n",
      "quam : 3\n",
      "amet : 7\n",
      "lacus : 5\n",
      "molestie : 2\n",
      "tempor. : 1\n",
      "Nunc : 3\n",
      "est : 2\n",
      "elit, : 1\n",
      "ut : 4\n",
      "pellentesque : 2\n",
      "ultricies : 3\n",
      "eros. : 1\n",
      "ac : 2\n",
      "nisi : 3\n",
      "ullamcorper, : 1\n",
      "felis : 2\n",
      "ornare. : 2\n",
      "orci, : 1\n",
      "viverra : 2\n",
      "eleifend : 1\n",
      "nec : 3\n",
      "tortor. : 1\n",
      "libero : 3\n",
      "tincidunt. : 2\n",
      "finibus : 4\n",
      "felis, : 1\n",
      "in. : 1\n",
      "Integer : 3\n",
      "lectus : 2\n",
      "auctor : 3\n",
      "aliquam. : 1\n",
      "Nam : 1\n",
      "mauris. : 2\n",
      "fringilla, : 1\n",
      "at, : 1\n",
      "risus. : 2\n",
      "feugiat : 1\n",
      "nulla : 2\n",
      "purus : 3\n",
      "ultricies, : 1\n",
      "metus : 3\n",
      "malesuada. : 1\n",
      "blandit, : 1\n",
      "ut, : 1\n",
      "congue : 1\n",
      "faucibus. : 1\n",
      "Fusce : 2\n",
      "imperdiet : 1\n",
      "sem, : 1\n",
      "sed. : 2\n",
      "dictum. : 1\n",
      "elit : 1\n",
      "volutpat, : 1\n",
      "accumsan. : 1\n",
      "placerat : 1\n",
      "arcu. : 1\n",
      "metus, : 2\n",
      "malesuada : 1\n",
      "ante : 1\n",
      "vitae, : 1\n",
      "varius : 1\n",
      "tempus. : 1\n",
      "Nullam : 1\n",
      "mauris : 1\n",
      "laoreet, : 1\n",
      "dictum : 1\n",
      "consequat, : 1\n",
      "accumsan : 2\n",
      "leo. : 1\n",
      "libero, : 1\n",
      "maximus : 2\n",
      "at. : 1\n",
      "dui, : 1\n",
      "lacinia : 1\n",
      "porta : 1\n",
      "tortor : 1\n",
      "sagittis : 1\n",
      "rutrum : 2\n",
      "leo : 2\n",
      "eget, : 1\n",
      "vehicula : 3\n",
      "pharetra. : 1\n",
      "Praesent : 1\n",
      "turpis, : 1\n",
      "consequat : 1\n",
      "eleifend. : 1\n",
      "ornare : 1\n",
      "a : 2\n",
      "efficitur : 1\n",
      "facilisis. : 1\n",
      "dictum, : 1\n",
      "sapien : 2\n",
      "tincidunt, : 1\n",
      "ex, : 1\n",
      "dui. : 1\n",
      "In : 1\n",
      "faucibus : 2\n",
      "viverra. : 1\n",
      "volutpat. : 1\n",
      "ultricies. : 1\n",
      "tristique : 1\n",
      "diam. : 1\n",
      "gravida. : 1\n",
      "Maecenas : 1\n",
      "nisi. : 1\n"
     ]
    }
   ],
   "source": [
    "# Count Words in a file/String \n",
    "\n",
    "from collections import Counter\n",
    "fl = open('count_words_strs.txt','rt')\n",
    "read_fl = fl.read()\n",
    "fl.close()\n",
    "\n",
    "list_fl = read_fl.split()\n",
    "dict_fl = Counter(list_fl)\n",
    "\n",
    "for word, repetation in dict_fl.items():\n",
    "  print(word + \" : \" + str(repetation))"
   ]
  },
  {
   "cell_type": "markdown",
   "metadata": {},
   "source": [
    "**Text Editor** - Notepad style application that can open, edit, and save text documents. *Optional: Add syntax highlighting and other features.*"
   ]
  },
  {
   "cell_type": "code",
   "execution_count": null,
   "metadata": {},
   "outputs": [],
   "source": [
    "# Text Editor\n",
    "import os\n",
    "\n",
    "clear = lambda: os.system('clear')\n",
    "\n",
    "def create_file():\n",
    "  while True:\n",
    "    file_name = input('Enter file name with its extention : ')\n",
    "    path_to_dir = input('Input valid path to dir for file : ')\n",
    "    \n",
    "    if file_name == '':\n",
    "      clear()\n",
    "      print('Invalid Filename')\n",
    "      continue\n",
    "\n",
    "    if os.path.isdir(path_to_dir) or path_to_dir == '':\n",
    "      if path_to_dir != '':\n",
    "        if path_to_dir[-1] != '/':\n",
    "          path_to_dir += '/'\n",
    "      \n",
    "      file = path_to_dir+file_name\n",
    "      create = open(file, 'x')\n",
    "      create.close()\n",
    "      \n",
    "      if os.path.isfile(file):\n",
    "        print('File {} created! at {}'.format(file_name,path_to_dir))\n",
    "        input()\n",
    "        choose()\n",
    "      \n",
    "    else:\n",
    "      print('\\nInvalid Path. This dir does not exist.')\n",
    "      input()\n",
    "\n",
    "def read_file():\n",
    "  while True:\n",
    "    path_to_file = input('Input valid path to file : ')\n",
    "    \n",
    "    if path_to_file == '':\n",
    "      clear()\n",
    "      print('Invalid Filename\\n')\n",
    "      continue\n",
    "\n",
    "    if os.path.isfile(path_to_file):\n",
    "      reader = open(path_to_file, 'r')\n",
    "      content = reader.read()\n",
    "      reader.close()\n",
    "      \n",
    "      clear()\n",
    "      print('File content of {} are as below\\n'.format(path_to_file))\n",
    "      print(content)\n",
    "      print('\\nPress Enter to continue')\n",
    "      input()\n",
    "      choose()\n",
    "    else:\n",
    "      print('\\nInvalid Path. This file does not exist.')\n",
    "      input()\n",
    "\n",
    "def edit_file():\n",
    "  while True:\n",
    "    path_to_file = input('Input valid path to file : ')\n",
    "    \n",
    "    if path_to_file == '':\n",
    "      clear()\n",
    "      print('Invalid Filename\\n')\n",
    "      continue\n",
    "\n",
    "    if os.path.isfile(path_to_file):\n",
    "      while True:\n",
    "        select = input('How to write in file\\n\\t1.Overwrite \\t2.Append : ')\n",
    "        if select in ['1','2']:\n",
    "          if select == '1':\n",
    "            content = input('write content to overwrite : ')\n",
    "            file = open(path_to_file,'w')\n",
    "            file.write(content)\n",
    "            file.close()\n",
    "          else:\n",
    "            content = input('write content to append : ')\n",
    "            file = open(path_to_file,'a')\n",
    "            file.write(content)\n",
    "            file.close()\n",
    "\n",
    "          clear()\n",
    "          print('File Edited Succesfuly!')\n",
    "          input()\n",
    "          choose()\n",
    "        else:\n",
    "          clear()\n",
    "          print('invalid input')\n",
    "          continue\n",
    "\n",
    "    else:\n",
    "      print('\\nInvalid Path. This file does not exist.')\n",
    "      input()\n",
    "\n",
    "def choose():\n",
    "  while True:\n",
    "    clear()\n",
    "    print('WHat do you want to do : ')\n",
    "    print('\\t1.Create File')\n",
    "    print('\\t2.read File')\n",
    "    print('\\t3.Edit File')\n",
    "    choice = input('\\nYour Choice(1/2/3) : ')\n",
    "    if choice in ['1','2','3']:\n",
    "      if choice == '1':\n",
    "        create_file()\n",
    "        break\n",
    "      elif choice == '2':\n",
    "        read_file()\n",
    "        break\n",
    "      else:\n",
    "        edit_file()\n",
    "        break\n",
    "    else:\n",
    "      print('Invalid Input! Please enter 1 or 2 or 3')\n",
    "      input()\n",
    "\n",
    "choose()"
   ]
  },
  {
   "cell_type": "markdown",
   "metadata": {},
   "source": [
    "**RSS Feed Creator** - Given a link to RSS/Atom Feed, get all posts and display them."
   ]
  },
  {
   "cell_type": "code",
   "execution_count": 5,
   "metadata": {},
   "outputs": [
    {
     "name": "stdout",
     "output_type": "stream",
     "text": [
      "Site Title : <![CDATA[Lorem ipsum feed for an interval of 30 seconds with 10 item(s)]]>\n",
      "Site Description : <![CDATA[This is a constantly updating lorem ipsum feed]]>\n",
      "\n",
      "Title : <![CDATA[Lorem ipsum 2022-01-05T07:24:00Z]]>\n",
      "Description : <![CDATA[Duis pariatur tempor exercitation id aliquip sint occaecat fugiat pariatur sunt nulla dolor qui Lorem.]]>\n",
      "Link : http://example.com/test/1641367440\n",
      "\n",
      "Title : <![CDATA[Lorem ipsum 2022-01-05T07:23:30Z]]>\n",
      "Description : <![CDATA[Velit incididunt nisi aute ipsum mollit labore in amet.]]>\n",
      "Link : http://example.com/test/1641367410\n",
      "\n",
      "Title : <![CDATA[Lorem ipsum 2022-01-05T07:23:00Z]]>\n",
      "Description : <![CDATA[Exercitation nulla fugiat veniam laboris eiusmod ut non ad.]]>\n",
      "Link : http://example.com/test/1641367380\n",
      "\n",
      "Title : <![CDATA[Lorem ipsum 2022-01-05T07:22:30Z]]>\n",
      "Description : <![CDATA[Consectetur proident adipisicing aliqua aliquip elit amet dolore laboris nisi sunt velit cupidatat officia mollit.]]>\n",
      "Link : http://example.com/test/1641367350\n",
      "\n",
      "Title : <![CDATA[Lorem ipsum 2022-01-05T07:22:00Z]]>\n",
      "Description : <![CDATA[Adipisicing non amet et ullamco aliqua nisi sint qui amet aliqua.]]>\n",
      "Link : http://example.com/test/1641367320\n",
      "\n",
      "Title : <![CDATA[Lorem ipsum 2022-01-05T07:21:30Z]]>\n",
      "Description : <![CDATA[Elit nisi dolor voluptate reprehenderit qui eiusmod consequat excepteur laborum.]]>\n",
      "Link : http://example.com/test/1641367290\n",
      "\n",
      "Title : <![CDATA[Lorem ipsum 2022-01-05T07:21:00Z]]>\n",
      "Description : <![CDATA[Et cillum voluptate cupidatat in voluptate sit officia enim nisi Lorem qui laborum fugiat qui.]]>\n",
      "Link : http://example.com/test/1641367260\n",
      "\n",
      "Title : <![CDATA[Lorem ipsum 2022-01-05T07:20:30Z]]>\n",
      "Description : <![CDATA[Cupidatat cillum sit deserunt officia nostrud culpa enim laborum aliqua consectetur Lorem non aliqua nisi.]]>\n",
      "Link : http://example.com/test/1641367230\n",
      "\n",
      "Title : <![CDATA[Lorem ipsum 2022-01-05T07:20:00Z]]>\n",
      "Description : <![CDATA[Mollit ullamco dolor aliquip laboris dolore.]]>\n",
      "Link : http://example.com/test/1641367200\n",
      "\n",
      "Title : <![CDATA[Lorem ipsum 2022-01-05T07:19:30Z]]>\n",
      "Description : <![CDATA[Magna nisi magna eiusmod aute dolore voluptate consectetur fugiat veniam velit id ea.]]>\n",
      "Link : http://example.com/test/1641367170\n"
     ]
    }
   ],
   "source": [
    "# RSS Feed Creator\n",
    "import requests\n",
    "import bs4\n",
    "\n",
    "req = requests.get('https://lorem-rss.herokuapp.com/feed?unit=second&interval=30')\n",
    "soup = bs4.BeautifulSoup(req.text,'lxml')\n",
    "\n",
    "site_title = soup.select('channel title')[0].getText()\n",
    "site_desc = soup.select('channel description')[0].getText()\n",
    "\n",
    "print('Site Title : ' + site_title)\n",
    "print('Site Description : ' + site_desc)\n",
    "\n",
    "def display(title,desc,link):\n",
    "  print()\n",
    "  print('Title : ' + title)\n",
    "  print('Description : ' + desc)\n",
    "  print('Link : ' + link)\n",
    "\n",
    "\n",
    "site_items = soup.select('item')\n",
    "for item in site_items:\n",
    "  item_title = item.select('title')[0].getText()\n",
    "  item_decs = item.select('description')[0].getText()\n",
    "  item_link = item.select('guid')[0].getText()\n",
    "  display(item_title, item_decs, item_link)\n"
   ]
  },
  {
   "cell_type": "markdown",
   "metadata": {},
   "source": [
    "**Quote Tracker (market symbols etc)** - A program which can go out and check the current value of stocks for a list of symbols entered by the user. The user can set how often the stocks are checked. For CLI, show whether the stock has moved up or down. *Optional: If GUI, the program can show green up and red down arrows to show which direction the stock value has moved.*\n",
    "\n",
    "**Guestbook / Journal** - A simple application that allows people to add comments or write journal entries. It can allow comments or not and timestamps for all entries. Could also be made into a shout box. *Optional: Deploy it on Google App Engine or Heroku or any other PaaS (if possible, of course).*\n",
    "\n",
    "**Vigenere / Vernam / Ceasar Ciphers** - Functions for encrypting and decrypting data messages. Then send them to a friend."
   ]
  },
  {
   "cell_type": "code",
   "execution_count": 12,
   "metadata": {},
   "outputs": [
    {
     "name": "stdout",
     "output_type": "stream",
     "text": [
      "Enter a string to encode or decode : defg\n",
      "Enter a key (0 < key < 25): 3\n",
      "Encode or decode (E/D): d\n",
      "Plain text is : abcd\n"
     ]
    }
   ],
   "source": [
    "# Ceasar Ciphers\n",
    "\n",
    "letters = ['a', 'b', 'c', 'd', 'e', 'f', 'g', 'h', 'i', 'j', 'k', 'l', 'm', 'n', 'o', 'p', 'q', 'r', 's', 't', 'u', 'v', 'w', 'x', 'y', 'z']\n",
    "rev_letters = letters.copy()\n",
    "rev_letters.reverse()\n",
    "\n",
    "def encode(plain_text,key):\n",
    "  cipher_text = ''\n",
    "  for latter in plain_text:\n",
    "    index = letters.index(latter)\n",
    "    new_index = (index + key)%26\n",
    "    cipher_text += letters[new_index]\n",
    "\n",
    "  print('Cipher text is : ' +cipher_text)\n",
    "\n",
    "def decode(cipher_text,key):\n",
    "  plain_text = ''\n",
    "  for latter in cipher_text:\n",
    "    index = rev_letters.index(latter)\n",
    "    new_index = (index + key)%26\n",
    "    plain_text += rev_letters[new_index]\n",
    "  \n",
    "  print('Plain text is : ' +plain_text)\n",
    "\n",
    "\n",
    "string = input('Enter a string to encode or decode : ')\n",
    "key = int(input('Enter a key (0 < key < 25): '))\n",
    "\n",
    "while True:\n",
    "  select = input('Encode or decode (E/D): ').upper()\n",
    "  if select in ['E','D']:\n",
    "    if select == 'E':\n",
    "      encode(string,key)\n",
    "      break\n",
    "    else:\n",
    "      decode(string,key)\n",
    "      break\n",
    "  else:\n",
    "    print('Invalid Input')"
   ]
  },
  {
   "cell_type": "markdown",
   "metadata": {},
   "source": [
    "**Regex Query Tool** - A tool that allows the user to enter a text string and then in a separate control enter a regex pattern. It will run the regular expression against the source text and return any matches or flag errors in the regular expression."
   ]
  },
  {
   "cell_type": "code",
   "execution_count": 8,
   "metadata": {},
   "outputs": [
    {
     "name": "stdout",
     "output_type": "stream",
     "text": [
      "Enter String : abc001\n",
      "Enter regex : \\d{3}\n",
      "Matched subStrings are : ['001']\n"
     ]
    }
   ],
   "source": [
    "# Regex Query Tool\n",
    "\n",
    "import re\n",
    "\n",
    "def result(string,regex_str):\n",
    "  regex = re.compile(regex_str)\n",
    "  if re.search(regex, string) == None:\n",
    "    print('Regex did not match')\n",
    "  else:\n",
    "    print('Matched subStrings are : ' + str(re.findall(regex, string)))\n",
    "\n",
    "\n",
    "while True:\n",
    "  string = input('Enter String : ')\n",
    "  regex_str = input('Enter regex : ')\n",
    "\n",
    "  if string == '':\n",
    "    print('invalid String')\n",
    "    continue\n",
    "  elif regex_str == '':\n",
    "    print('Invalid regex')\n",
    "    continue\n",
    "  else:\n",
    "    result(string,regex_str)\n",
    "    break"
   ]
  },
  {
   "cell_type": "markdown",
   "metadata": {},
   "source": [
    "Networking\n",
    "---------\n",
    "\n",
    "**FTP Program** - A file transfer program which can transfer files back and forth from a remote web sever."
   ]
  },
  {
   "cell_type": "code",
   "execution_count": null,
   "metadata": {},
   "outputs": [],
   "source": [
    "# FTP Program \n",
    "# sending file\n",
    "import ftplib\n",
    "\n",
    "HOSTNAME = \"ftp.dlptest.com\"\n",
    "USERNAME = \"dlpuser\"\n",
    "PASSWORD = \"rNrKYTX9g7z3RgJRmxWuGHbeu\"\n",
    "\n",
    "ftp_server = ftplib.FTP(HOSTNAME, USERNAME, PASSWORD)\n",
    "\n",
    "ftp_server.encoding = \"utf-8\"\n",
    "\n",
    "filename = input('Enter path to file : ')\n",
    "\n",
    "with open(filename, \"rb\") as file:\n",
    "\tftp_server.storbinary(f\"STOR {filename}\", file)\n",
    "\n",
    "ftp_server.dir()\n",
    "\n",
    "# retriving file\n",
    "\n",
    "with open(filename, \"wb\") as file:\n",
    "\tftp_server.retrbinary(f\"RETR {filename}\", file.write)\n",
    "\n",
    "ftp_server.dir()\n",
    "\n",
    "file= open(filename, \"r\")\n",
    "print('File Content:', file.read())\n",
    "\n",
    "ftp_server.quit()"
   ]
  },
  {
   "cell_type": "markdown",
   "metadata": {},
   "source": [
    "**Bandwidth Monitor** - A small utility program that tracks how much data you have uploaded and downloaded from the net during the course of your current online session. See if you can find out what periods of the day you use more and less and generate a report or graph that shows it."
   ]
  },
  {
   "cell_type": "code",
   "execution_count": null,
   "metadata": {},
   "outputs": [],
   "source": [
    "import time\n",
    "from psutil import net_io_counters\n",
    "\n",
    "KB = float(1024)\n",
    "MB = float(KB ** 2) # 1,048,576\n",
    "GB = float(KB ** 3) # 1,073,741,824\n",
    "TB = float(KB ** 4) # 1,099,511,627,776\n",
    "def size(bytes):\n",
    "\tB = float(bytes)\n",
    "\tif B < KB: return f\"{B} Bytes\"\n",
    "\telif KB <= B < MB: return f\"{B/KB:.2f} KB\"\n",
    "\telif MB <= B < GB: return f\"{B/MB:.2f} MB\"\n",
    "\telif GB <= B < TB: return f\"{B/GB:.2f} GB\"\n",
    "\telif TB <= B: return f\"{B/TB:.2f} TB\"\n",
    "\n",
    "def main():\n",
    "    total_bandwidth = 0\n",
    "\n",
    "    while True:\n",
    "        bandwidth = net_io_counters().bytes_sent + net_io_counters().bytes_recv\n",
    "        total_bandwidth += bandwidth\n",
    "        \n",
    "        if total_bandwidth:\n",
    "            print(\"total and width used : \" + size(total_bandwidth))\n",
    "        time.sleep(1)\n",
    "\n",
    "main()\n",
    "# print(\"Download : \" + size(net_io_counters().bytes_recv))\n",
    "# print(\"Upload : \" + size(net_io_counters().bytes_sent))"
   ]
  },
  {
   "cell_type": "markdown",
   "metadata": {},
   "source": [
    "**Port Scanner** - Enter an IP address and a port range where the program will then attempt to find open ports on the given computer by connecting to each of them. On any successful connections mark the port as open."
   ]
  },
  {
   "cell_type": "code",
   "execution_count": null,
   "metadata": {},
   "outputs": [],
   "source": [
    "import socket\n",
    "\n",
    "host = input(\"enter host name : \")\n",
    "start = int(input('enter start port no : '))\n",
    "end = int(input('enter end port no : '))\n",
    "\n",
    "target = socket.gethostbyname(host)\n",
    "\n",
    "print(\"-\" * 50)\n",
    "print(\"Scanning Target: \" + target)\n",
    "print(\"-\" * 50)\n",
    "\n",
    "try:\n",
    "  for port in range(start,end):\n",
    "    s = socket.socket(socket.AF_INET, socket.SOCK_STREAM)\n",
    "    socket.setdefaulttimeout(1)\n",
    "    result = s.connect_ex((target,port))\n",
    "    if result == 0:\n",
    "      print(\"Port {} is open\".format(port))\n",
    "      s.close()\n",
    "except:\n",
    "  print(\"\\n Error Exiting Program !!!!\")"
   ]
  },
  {
   "cell_type": "markdown",
   "metadata": {},
   "source": [
    "**Mail Checker (POP3 / IMAP)** - The user enters various account information include web server and IP, protocol type (POP3 or IMAP) and the application will check for email at a given interval.\n",
    "\n",
    "**Country from IP Lookup** - Enter an IP address and find the country that IP is registered in. *Optional: Find the Ip automatically.*"
   ]
  },
  {
   "cell_type": "code",
   "execution_count": 1,
   "metadata": {},
   "outputs": [
    {
     "name": "stdout",
     "output_type": "stream",
     "text": [
      "Enter ip : \n",
      "ip  :  103.85.9.214\n",
      "city  :  Ahmedabad\n",
      "region  :  Gujarat\n",
      "country  :  IN\n",
      "loc  :  23.0258,72.5873\n",
      "org  :  AS45916 Gujarat Telelink Pvt Ltd\n",
      "postal  :  380001\n",
      "timezone  :  Asia/Kolkata\n",
      "readme  :  https://ipinfo.io/missingauth\n"
     ]
    }
   ],
   "source": [
    "from urllib.request import urlopen\n",
    "from json import load\n",
    "    \n",
    "def ipInfo(addr=''):\n",
    "    if addr == '':\n",
    "        url = 'https://ipinfo.io/json'\n",
    "    else:\n",
    "        url = 'https://ipinfo.io/' + addr + '/json'\n",
    "    res = urlopen(url)\n",
    "    data = load(res)\n",
    "    for attr in data.keys():\n",
    "        print(attr,' : ',data[attr])\n",
    "\n",
    "ip = input('Enter ip : ')\n",
    "\n",
    "ipInfo(ip)"
   ]
  },
  {
   "cell_type": "markdown",
   "metadata": {},
   "source": [
    "**Whois Search Tool** - Enter an IP or host address and have it look it up through whois and return the results to you."
   ]
  },
  {
   "cell_type": "code",
   "execution_count": 9,
   "metadata": {},
   "outputs": [
    {
     "name": "stdout",
     "output_type": "stream",
     "text": [
      "Enter valid IP : 216.58.206.46\n",
      "{'asn': '15169',\n",
      " 'asn_cidr': '216.58.206.0/23',\n",
      " 'asn_country_code': 'US',\n",
      " 'asn_date': '2012-01-27',\n",
      " 'asn_description': 'GOOGLE, US',\n",
      " 'asn_registry': 'arin',\n",
      " 'nets': [{'address': '1600 Amphitheatre Parkway',\n",
      "           'cidr': '216.58.192.0/19',\n",
      "           'city': 'Mountain View',\n",
      "           'country': 'US',\n",
      "           'created': '2012-01-27',\n",
      "           'description': 'Google LLC',\n",
      "           'emails': ['arin-contact@google.com', 'network-abuse@google.com'],\n",
      "           'handle': 'NET-216-58-192-0-1',\n",
      "           'name': 'GOOGLE',\n",
      "           'postal_code': '94043',\n",
      "           'range': '216.58.192.0 - 216.58.223.255',\n",
      "           'state': 'CA',\n",
      "           'updated': '2012-01-27'}],\n",
      " 'nir': None,\n",
      " 'query': '216.58.206.46',\n",
      " 'raw': None,\n",
      " 'raw_referral': None,\n",
      " 'referral': None}\n"
     ]
    }
   ],
   "source": [
    "# Whois Search Tool\n",
    "\n",
    "from ipwhois import IPWhois\n",
    "from pprint import pprint\n",
    "\n",
    "\n",
    "def check(ip):\n",
    "  obj = IPWhois(ip)\n",
    "  res = obj.lookup_whois()\n",
    "  pprint(res)\n",
    "\n",
    "ip = input('Enter valid IP : ')\n",
    "check(ip)"
   ]
  },
  {
   "cell_type": "markdown",
   "metadata": {},
   "source": [
    "**Site Checker with Time Scheduling** - An application that attempts to connect to a website or server every so many minutes or a given time and check if it is up. If it is down, it will notify you by email or by posting a notice on screen.\n",
    "\n",
    "\n",
    "Classes\n",
    "---------\n",
    "\n",
    "**Product Inventory Project** - Create an application which manages an inventory of products. Create a product class which has a price, id, and quantity on hand. Then create an *inventory* class which keeps track of various products and can sum up the inventory value."
   ]
  },
  {
   "cell_type": "code",
   "execution_count": 10,
   "metadata": {},
   "outputs": [
    {
     "name": "stdout",
     "output_type": "stream",
     "text": [
      "\n",
      "Product name : quantity\n",
      "Food : 10\n",
      "Drinks : 20\n",
      "Total number of product is : 30\n"
     ]
    }
   ],
   "source": [
    "class Inventory:\n",
    "  def __init__(self):\n",
    "    pass\n",
    "  products = []\n",
    "  def list_inventory(self):\n",
    "    print()\n",
    "    print('Product name : quantity')\n",
    "    for product in self.products:\n",
    "      print(product['name'] + \" : \"+ str(product['quantity']))\n",
    "  \n",
    "  def add_product(self,product_dict):\n",
    "    self.products.append(product_dict)\n",
    "\n",
    "  def total_products(self):\n",
    "    total = 0\n",
    "    for product in self.products:\n",
    "      total +=  product['quantity']\n",
    "    print('Total number of product is : ' + str(total))\n",
    "\n",
    "inventory = Inventory()\n",
    "\n",
    "\n",
    "class Product:\n",
    "  def __init__(self,name,price,id,quantity):\n",
    "    self.name = name\n",
    "    self.price = price\n",
    "    self.id = id\n",
    "    self.quantity = quantity\n",
    "    inventory.add_product({'name' : self.name,'id': self.id, 'price': self.price, 'quantity' : self.quantity})\n",
    "  \n",
    "  def __str__(self):\n",
    "    return 'Product id ' + str(self.id) + ' has ' + str(self.price) + '$ price and ' +str(self.quantity)+ ' are left.'\n",
    "  \n",
    "  def print_product_dict(self):\n",
    "    print({'name' : self.name,'id': self.id, 'price': self.price, 'quantity' : self.quantity})\n",
    "\n",
    "food = Product('Food',100,1,10)\n",
    "drinks = Product('Drinks',20,2,20)\n",
    "\n",
    "inventory.list_inventory()\n",
    "inventory.total_products()"
   ]
  },
  {
   "cell_type": "markdown",
   "metadata": {},
   "source": [
    "**Airline / Hotel Reservation System** - Create a reservation system which books airline seats or hotel rooms. It charges various rates for particular sections of the plane or hotel. Example, first class is going to cost more than coach. Hotel rooms have penthouse suites which cost more. Keep track of when rooms will be available and can be scheduled."
   ]
  },
  {
   "cell_type": "code",
   "execution_count": 1,
   "metadata": {},
   "outputs": [
    {
     "name": "stdout",
     "output_type": "stream",
     "text": [
      "delux room : 20\n",
      "standerd room : 100\n",
      "\n",
      "This room is available\n",
      "You need to pay 3000 for delux room\n",
      "Your room is reserved\n",
      "\n",
      "delux room : 19\n",
      "standerd room : 100\n",
      "\n",
      "Thank oou for your patronage\n",
      "\n",
      "delux room : 20\n",
      "standerd room : 100\n"
     ]
    }
   ],
   "source": [
    "# Hotel Reservation System - Create a reservation system which books hotel rooms. It charges various rates for particular room of hotel. Example, Hotel rooms have penthouse suites which cost more. Keep track of when rooms will be available and can be scheduled.\n",
    "\n",
    "class Hotel:\n",
    "  def __init__(self):\n",
    "    self.rooms = {\n",
    "      \"delux\" : 20,\n",
    "      \"standerd\" : 100,\n",
    "    }\n",
    "    self.price = {\n",
    "      \"delux\" : 3000,\n",
    "      \"standerd\" : 1500,\n",
    "    }\n",
    "\n",
    "class Resevation(Hotel):\n",
    "  def __init__(self, guest_name, room):\n",
    "    Hotel.__init__(self)\n",
    "    self.guest_name = guest_name\n",
    "    self.guest_cost = 0\n",
    "    self.room = room\n",
    "    self.room_available = False\n",
    "\n",
    "  def is_available(self):\n",
    "    if self.rooms[self.room] > 0:\n",
    "      print('This room is available')\n",
    "      self.room_available = True\n",
    "    else:\n",
    "      print('This room is unawailable')\n",
    "      self.room_available = False\n",
    "\n",
    "  def reserv(self):\n",
    "    if self.room_available:\n",
    "      self.guest_cost = self.price[self.room]\n",
    "      print('You need to pay '+ str(self.guest_cost) + ' for ' + self.room + ' room')\n",
    "      self.rooms[self.room] -= 1\n",
    "      print('Your room is reserved')\n",
    "    else:\n",
    "      print('Please check of room is available or not')\n",
    "      print('If you already have then This room is not availale')\n",
    "\n",
    "  def check_out(self):\n",
    "    self.rooms[self.room] += 1\n",
    "    print('Thank oou for your patronage')\n",
    "\n",
    "  def available_rooms(self):\n",
    "    for key, value in self.rooms.items():\n",
    "      print (key + ' room : ' + str(value))\n",
    "\n",
    "het = Resevation('Het', \"delux\")\n",
    "\n",
    "\n",
    "het.available_rooms()\n",
    "print()\n",
    "\n",
    "het.is_available()\n",
    "het.reserv()\n",
    "print()\n",
    "\n",
    "het.available_rooms()\n",
    "print()\n",
    "\n",
    "het.check_out()\n",
    "print()\n",
    "\n",
    "het.available_rooms()"
   ]
  },
  {
   "cell_type": "markdown",
   "metadata": {},
   "source": [
    "**Company Manager** - Create an hierarchy of classes - abstract class Employee and subclasses HourlyEmployee, SalariedEmployee, Manager and Executive. Every one's pay is calculated differently, research a bit about it.\n",
    "After you've established an employee hierarchy, create a Company class that allows you to manage the employees. You should be able to hire, fire and raise employees. \n",
    "\n",
    "**Bank Account Manager** - Create a class called Account which will be an abstract class for three other classes called CheckingAccount, SavingsAccount and BusinessAccount. Manage credits and debits from these accounts through an ATM style program."
   ]
  },
  {
   "cell_type": "code",
   "execution_count": 1,
   "metadata": {},
   "outputs": [],
   "source": [
    "# Bank Account Manager\n",
    "\n",
    "from abc import ABC , abstractmethod \n",
    "class Account(ABC):\n",
    "  \n",
    "  @abstractmethod\n",
    "  def check_ammount(self):\n",
    "    pass\n",
    "\n",
    "  @abstractmethod\n",
    "  def debit(self):\n",
    "    pass\n",
    "\n",
    "  @abstractmethod\n",
    "  def withdraw(self):\n",
    "    pass\n",
    "\n",
    "\n",
    "class SavingsAccount(Account):\n",
    "  def __init__(self, name, ammount):\n",
    "    self.name = name\n",
    "    self.ammount = ammount\n",
    "    self.account_type = 'Savings Account'\n",
    "\n",
    "  def check_ammount(self):\n",
    "    if self.ammount:\n",
    "      print('your currunt balance is : ' + str(self.ammount))\n",
    "    else:\n",
    "      print('your account is empty')\n",
    "\n",
    "  def debit(self):\n",
    "    debit_ammount = int(input('Enter Ammount to be debited : '))\n",
    "    self.ammount += debit_ammount\n",
    "    print('your account successesfuly debited with '+ str(debit_ammount))\n",
    "    self.check_ammount()\n",
    "\n",
    "  def withdraw(self):\n",
    "    self.check_ammount()\n",
    "    withdraw_ammount = int(input('Enter ammount you want withdraw : '))\n",
    "    if withdraw_ammount > self.ammount:\n",
    "      print('Entered ammount is higher then currunt balance')\n",
    "    else:\n",
    "      if withdraw_ammount > 10000:\n",
    "        print('Ammount higher then 10,000 can\\'t be withdrawn')\n",
    "      else:\n",
    "        self.ammount -= withdraw_ammount\n",
    "        self.check_ammount() \n",
    "\n",
    "class BusinessAccount(Account):\n",
    "  def __init__(self, name, ammount):\n",
    "    self.name = name\n",
    "    self.ammount = ammount\n",
    "    self.account_type = 'Business Account'\n",
    "\n",
    "  def check_ammount(self):\n",
    "    if self.ammount:\n",
    "      print('your currunt balance is : ' + str(self.ammount))\n",
    "    else:\n",
    "      print('your account is empty')\n",
    "\n",
    "  def debit(self):\n",
    "    debit_ammount = int(input('Enter Ammount to be debited : '))\n",
    "    self.ammount += debit_ammount\n",
    "    print('your account successesfuly debited with '+ str(debit_ammount))\n",
    "    self.check_ammount()\n",
    "\n",
    "  def withdraw(self):\n",
    "    self.check_ammount()\n",
    "    withdraw_ammount = int(input('Enter ammount you want withdraw : '))\n",
    "    if withdraw_ammount > self.ammount:\n",
    "      print('Entered ammount is higher then currunt balance')\n",
    "    else:\n",
    "      self.ammount -= withdraw_ammount\n",
    "      self.check_ammount() \n",
    "\n",
    "class CheckingAccount(Account):\n",
    "  def __init__(self, name, ammount):\n",
    "    self.name = name\n",
    "    self.ammount = ammount\n",
    "    self.account_type = 'Checking Account'\n",
    "\n",
    "  def check_ammount(self):\n",
    "    if self.ammount:\n",
    "      print('your currunt balance is : ' + str(self.ammount))\n",
    "    else:\n",
    "      print('your account is empty')\n",
    "\n",
    "  def debit(self):\n",
    "    debit_ammount = int(input('Enter Ammount to be debited : '))\n",
    "    self.ammount += debit_ammount\n",
    "    print('your account successesfuly debited with '+ str(debit_ammount))\n",
    "    self.check_ammount()\n",
    "\n",
    "  def withdraw(self):\n",
    "    self.check_ammount()\n",
    "    withdraw_ammount = int(input('Enter ammount you want withdraw : '))\n",
    "    if withdraw_ammount > self.ammount:\n",
    "      print('Entered ammount is higher then currunt balance')\n",
    "    else:\n",
    "      self.ammount -= withdraw_ammount\n",
    "      self.check_ammount() \n",
    "\n",
    "\n",
    "# het = SavingsAccount('Het', 2000)\n",
    "# het.check_ammount()\n",
    "# het.debit()\n",
    "# het.withdraw()"
   ]
  },
  {
   "cell_type": "markdown",
   "metadata": {},
   "source": [
    "**Patient / Doctor Scheduler** - Create a patient class and a doctor class. Have a doctor that can handle multiple patients and setup a scheduling program where a doctor can only handle 16 patients during an 8 hr work day.\n",
    "\n",
    "**Recipe Creator and Manager** - Create a recipe class with ingredients and a put them in a recipe manager program that organizes them into categories like deserts, main courses or by ingredients like chicken, beef, soups, pies etc.\n",
    "\n",
    "**Image Gallery** - Create an image abstract class and then a class that inherits from it for each image type. Put them in a program which displays them in a gallery style format for viewing.\n",
    "\n",
    "**Shape Area and Perimeter Classes** - Create an abstract class called Shape and then inherit from it other shapes like diamond, rectangle, circle, triangle etc. Then have each class override the area and perimeter functionality to handle each shape type.\n",
    "\n",
    "**Flower Shop Ordering To Go** - Create a flower shop application which deals in flower objects and use those flower objects in a bouquet object which can then be sold. Keep track of the number of objects and when you may need to order more.\n",
    "\n",
    "**Family Tree Creator** - Create a class called Person which will have a name, when they were born and when (and if) they died. Allow the user to create these Person classes and put them into a family tree structure. Print out the tree to the screen.\n",
    "\n",
    "\n",
    "Threading\n",
    "---------\n",
    "\n",
    "**Create A Progress Bar for Downloads** - Create a progress bar for applications that can keep track of a download in progress. The progress bar will be on a separate thread and will communicate with the main thread using delegates.\n",
    "\n",
    "**Bulk Thumbnail Creator** - Picture processing can take a bit of time for some transformations. Especially if the image is large. Create an image program which can take hundreds of images and converts them to a specified size in the background thread while you do other things. For added complexity, have one thread handling re-sizing, have another bulk renaming of thumbnails etc.\n",
    "\n",
    "\n",
    "Web\n",
    "---------\n",
    "\n",
    "**Page Scraper** - Create an application which connects to a site and pulls out all links, or images, and saves them to a list. *Optional: Organize the indexed content and don’t allow duplicates. Have it put the results into an easily searchable index file.*"
   ]
  },
  {
   "cell_type": "code",
   "execution_count": null,
   "metadata": {},
   "outputs": [],
   "source": [
    "# Page Scraper\n",
    "\n",
    "import requests\n",
    "import bs4\n",
    "\n",
    "req = requests.get('https://en.wikipedia.org/wiki/Chess')\n",
    "\n",
    "soup = bs4.BeautifulSoup(req.text,'lxml')\n",
    "\n",
    "site_links = soup.select('a')\n",
    "links = []\n",
    "for link in site_links:\n",
    "  links.append(link.get('href'))\n",
    "\n",
    "links = list(set(links))\n",
    "\n",
    "for link in links:\n",
    "  print(link)"
   ]
  },
  {
   "cell_type": "markdown",
   "metadata": {},
   "source": [
    "**Create Zip File Maker** - The user enters various files from different directories and the program zips them up into a zip file. *Optional: Apply actual compression to the files. Start with Huffman Algorithm.*\n",
    "\n",
    "**PDF Generator** - An application which can read in a text file, html file or some other file and generates a PDF file out of it. Great for a web based service where the user uploads the file and the program returns a PDF of the file. *Optional: Deploy on GAE or Heroku if possible.*"
   ]
  },
  {
   "cell_type": "code",
   "execution_count": null,
   "metadata": {},
   "outputs": [],
   "source": [
    "# font > size : 10, family : arial \n",
    "from fpdf import FPDF\n",
    "pdf = FPDF()\n",
    "\n",
    "file_name = input('Enter path to file whith file name')\n",
    "\n",
    "file = open(file_name, 'r')\n",
    "content = file.read()\n",
    "file.close()\n",
    "pdf.set_font('arial','', 10)\n",
    "\n",
    "pdf.add_page()\n",
    "pdf.multi_cell(0,5, content)\n",
    "\n",
    "pdf_name = input('Entername of created pdf (without .pdf extention): ')\n",
    "pdf.output(pdf_name + '.pdf')"
   ]
  },
  {
   "cell_type": "markdown",
   "metadata": {},
   "source": [
    "**Online White Board** - Create an application which allows you to draw pictures, write notes and use various colors to flesh out ideas for projects. *Optional: Add feature to invite friends to collaborate on a white board online.*\n",
    "\n",
    "**Get Atomic Time from Internet Clock** - This program will get the true atomic time from an atomic time clock on the Internet. Use any one of the atomic clocks returned by a simple Google search.\n",
    "\n",
    "**Fetch Current Weather** - Get the current weather for a given zip/postal code. *Optional: Try locating the user automatically.*"
   ]
  },
  {
   "cell_type": "code",
   "execution_count": 1,
   "metadata": {},
   "outputs": [
    {
     "name": "stdout",
     "output_type": "stream",
     "text": [
      "Enter the Name of City : Ahmedabad\n",
      "Searching...\n",
      "\n",
      "Ahmedabad, Gujarat\n",
      "Monday, 11:00 am\n",
      "Haze\n",
      "21°C\n",
      "Have a Nice Day:)\n"
     ]
    }
   ],
   "source": [
    "# Fetch Currunt Weather - sorce geekksforgeeks \n",
    "from bs4 import BeautifulSoup\n",
    "import requests\n",
    "\n",
    "headers = {\n",
    "\t'User-Agent': 'Mozilla/5.0 (Windows NT 10.0; Win64; x64) AppleWebKit/537.36 (KHTML, like Gecko) Chrome/58.0.3029.110 Safari/537.3'}\n",
    "\n",
    "\n",
    "def weather(city):\n",
    "\tcity = city.replace(\" \", \"+\")\n",
    "\tres = requests.get(\n",
    "\t\tf'https://www.google.com/search?q={city}&oq={city}&aqs=chrome.0.35i39l2j0l4j46j69i60.6128j1j7&sourceid=chrome&ie=UTF-8', headers=headers)\n",
    "\tprint(\"Searching...\\n\")\n",
    "\tsoup = BeautifulSoup(res.text, 'html.parser')\n",
    "\tlocation = soup.select('#wob_loc')[0].getText().strip()\n",
    "\ttime = soup.select('#wob_dts')[0].getText().strip()\n",
    "\tinfo = soup.select('#wob_dc')[0].getText().strip()\n",
    "\tweather = soup.select('#wob_tm')[0].getText().strip()\n",
    "\tprint(location)\n",
    "\tprint(time)\n",
    "\tprint(info)\n",
    "\tprint(weather+\"°C\")\n",
    "\n",
    "\n",
    "city = input(\"Enter the Name of City : \")\n",
    "city = city+\" weather\"\n",
    "weather(city)\n",
    "print(\"Have a Nice Day:)\")"
   ]
  },
  {
   "cell_type": "markdown",
   "metadata": {},
   "source": [
    "**Scheduled Auto Login and Action** - Make an application which logs into a given site on a schedule and invokes a certain action and then logs out. This can be useful for checking web mail, posting regular content, or getting info for other applications and saving it to your computer."
   ]
  },
  {
   "cell_type": "code",
   "execution_count": null,
   "metadata": {},
   "outputs": [],
   "source": [
    "# automated github log in\n",
    "from selenium import webdriver\n",
    "import os\n",
    "\n",
    "def startBot(username, password, url):\n",
    "\tpath = \"C:\\\\Users\\\\User\\\\Desktop\\\\Het's\\\\Intuz\\\\chromedriver.exe\"\n",
    "\t\n",
    "\tdriver = webdriver.Chrome(path)\n",
    "\tdriver.get(url)\n",
    "\tdriver.find_element_by_name(\"login\").send_keys(username)\n",
    "\tdriver.find_element_by_name(\"password\").send_keys(password)\n",
    "\tdriver.find_element_by_name(\"commit\").click()\n",
    "\n",
    "username = \"SutharHet\"\n",
    "password = \"\"\n",
    "url = \"https://github.com/login\"\n",
    "\n",
    "startBot(username, password, url)"
   ]
  },
  {
   "cell_type": "markdown",
   "metadata": {},
   "source": [
    "**E-Card Generator** - Make a site that allows people to generate their own little e-cards and send them to other people. Do not use Flash. Use a picture library and perhaps insightful mottos or quotes.\n",
    "\n",
    "**Content Management System** - Create a content management system (CMS) like Joomla, Drupal, PHP Nuke etc. Start small. *Optional: Allow for the addition of modules/addons.*\n",
    "\n",
    "**Web Board (Forum)** - Create a forum for you and your buddies to post, administer and share thoughts and ideas.\n",
    "\n",
    "**CAPTCHA Maker** - Ever see those images with letters a numbers when you signup for a service and then asks you to enter what you see? It keeps web bots from automatically signing up and spamming. Try creating one yourself for online forms."
   ]
  },
  {
   "cell_type": "code",
   "execution_count": null,
   "metadata": {},
   "outputs": [],
   "source": [
    "# CAPTCHA Maker \n",
    "from captcha.image import ImageCaptcha\n",
    "import random\n",
    "\n",
    "image = ImageCaptcha(width = 280, height = 90)\n",
    "\n",
    "nums = []\n",
    "for i in range(1000, 2000):\n",
    "\tnums.append(str(i))\n",
    "\n",
    "captcha_text = random.choice(nums)\n",
    "\n",
    "data = image.generate(captcha_text)\n",
    "\n",
    "image.write(captcha_text, 'CAPTCHA.png')"
   ]
  },
  {
   "cell_type": "markdown",
   "metadata": {},
   "source": [
    "Files\n",
    "---------\n",
    "\n",
    "**Quiz Maker** - Make an application which takes various questions from a file, picked randomly, and puts together a quiz for students. Each quiz can be different and then reads a key to grade the quizzes."
   ]
  },
  {
   "cell_type": "code",
   "execution_count": 1,
   "metadata": {},
   "outputs": [
    {
     "name": "stdout",
     "output_type": "stream",
     "text": [
      "enter group : group01\n",
      "Question : \n",
      "\ta.\n",
      "\tb.\n",
      "\tc.\n",
      "\td.\n",
      "Answer is : a\n",
      "Question : \n",
      "\ta.\n",
      "\tb.\n",
      "\tc.\n",
      "\td.\n",
      "Answer is : b\n",
      "Question : \n",
      "\ta.\n",
      "\tb.\n",
      "\tc.\n",
      "\td.\n",
      "Answer is : c\n"
     ]
    }
   ],
   "source": [
    "import ast\n",
    "from pprint import pprint\n",
    "from tkinter.messagebox import QUESTION\n",
    "\n",
    "file = open(\"quiz.txt\",'rt')\n",
    "content = file.read()\n",
    "file.close()\n",
    "quiz = ast.literal_eval(content)\n",
    "\n",
    "group = input(\"enter group : \")\n",
    "\n",
    "if group in quiz.keys():\n",
    "  questions = quiz[group]\n",
    "  for key in questions.keys():\n",
    "    ques = questions[key]['question']\n",
    "    options = questions[key]['options']\n",
    "    ans = questions[key]['Answer']\n",
    "    print(\"Question : \" + ques)\n",
    "    for i in options:\n",
    "      print(\"\\t\" + i)\n",
    "    print('Answer is : ' + ans)\n",
    "else:\n",
    "  print('Wrong input')"
   ]
  },
  {
   "cell_type": "markdown",
   "metadata": {},
   "source": [
    "**Sort Excel/CSV File Utility** - Reads a file of records, sorts them, and then writes them back to the file. Allow the user to choose various sort style and sorting based on a particular field."
   ]
  },
  {
   "cell_type": "code",
   "execution_count": 2,
   "metadata": {},
   "outputs": [
    {
     "name": "stdout",
     "output_type": "stream",
     "text": [
      "Enter path to the file : Codes\\\\text.csv\n",
      "Enter Heading of column you want to sort by : Lname\n",
      "In decending oorder (Y/N): y\n",
      "\n",
      "After sorting:\n",
      "    No.   Fname          Lname                           Email  Gender  \\\n",
      "1     2  Freida  Drillingcourt       fdrillingcourt1@umich.edu  Female   \n",
      "3     4  Orazio       Frayling        ofrayling3@economist.com    Male   \n",
      "2     3   Nanni         Herity        nherity2@statcounter.com  Female   \n",
      "0     1  Joseph      Zaniolini  jzaniolini0@simplemachines.org    Male   \n",
      "\n",
      "               IP  \n",
      "1   97.212.102.79  \n",
      "3  25.199.143.143  \n",
      "2  145.151.178.98  \n",
      "0  163.168.68.132  \n"
     ]
    }
   ],
   "source": [
    "# Sort CSV File Utility\n",
    "\n",
    "import pandas as pandasForSortingCSV\n",
    "\n",
    "file_name = input('Enter path to the file : ')\n",
    "\n",
    "file_data = pandasForSortingCSV.read_csv(file_name)\n",
    "\t\t\t\t\t\t\t\t\n",
    "field_name = input('Enter Heading of column you want to sort by : ')\n",
    "\n",
    "order = input('In decending oorder (Y/N): ').upper()\n",
    "\n",
    "if order in [\"Y\",\"N\"]:\n",
    "\tif order == [\"Y\"]:\n",
    "\t\tdecending = False\n",
    "\telse:\n",
    "\t\tdecending = True\n",
    "\n",
    "file_data.sort_values([field_name], axis=0, ascending=[decending], inplace=True)\n",
    "\n",
    "print(\"\\nAfter sorting:\")\n",
    "print(file_data)\n"
   ]
  },
  {
   "cell_type": "markdown",
   "metadata": {},
   "source": [
    "**Mp3 Tagger** - Modify and add ID3v1 tags to MP3 files. See if you can also add in the album art into the MP3 file’s header as well as other ID3v2 tags."
   ]
  },
  {
   "cell_type": "code",
   "execution_count": null,
   "metadata": {},
   "outputs": [],
   "source": [
    "# Mp3 Tagger\n",
    "import mutagen\n",
    "from mutagen.easyid3 import EasyID3\n",
    "from pprint import pprint\n",
    "\n",
    "filePath = \"\"\n",
    "\n",
    "try:\n",
    "  meta = EasyID3(filePath)\n",
    "except mutagen.id3.ID3NoHeaderError:\n",
    "  meta = mutagen.File(filePath, easy=True)\n",
    "  meta.add_tags()\n",
    "\n",
    "# meta['title'] = \"\"\n",
    "meta.save(filePath, v1=2)\n",
    "changed = EasyID3(\"\")\n",
    "pprint(changed)"
   ]
  },
  {
   "cell_type": "markdown",
   "metadata": {},
   "source": [
    "**Code Snippet Manager** - Another utility program that allows coders to put in functions, classes or other tidbits to save for use later. Organized by the type of snippet or language the coder can quickly look up code. *Optional: For extra practice try adding syntax highlighting based on the language.*\n",
    "\n",
    "Databases\n",
    "---------\n",
    "\n",
    "**SQL Query Analyzer** - A utility application which a user can enter a query and have it run against a local database and look for ways to make it more efficient."
   ]
  },
  {
   "cell_type": "code",
   "execution_count": null,
   "metadata": {},
   "outputs": [],
   "source": [
    "# SQL Query Analyzer\n",
    "import mysql.connector\n",
    "\n",
    "db_name = input('Enter name of the Database : ')\n",
    "\n",
    "mydb = mysql.connector.connect(\n",
    "\thost=\"localhost\",\n",
    "\tuser=\"root\",\n",
    "\tpassword=\"root\",\n",
    "\tdatabase=db_name\n",
    ")\n",
    "\n",
    "query = input('Enter valid query with valid case : ')\n",
    "mycursor = mydb.cursor()\n",
    "mycursor.execute(query)\n",
    "\n",
    "query_list = query.split()\n",
    "\n",
    "if query_list[0]==\"SELECT\":\n",
    "\tmyresult = mycursor.fetchall()\n",
    "\tfor x in myresult:\n",
    "\t\tprint(x)\n",
    "else:\n",
    "\tprint('Query Executed')"
   ]
  },
  {
   "cell_type": "markdown",
   "metadata": {},
   "source": [
    "**Remote SQL Tool** - A utility that can execute queries on remote servers from your local computer across the Internet. It should take in a remote host, user name and password, run the query and return the results."
   ]
  },
  {
   "cell_type": "code",
   "execution_count": null,
   "metadata": {},
   "outputs": [],
   "source": [
    "import mysql.connector\n",
    "\n",
    "host_name = input('Enter host name : ')\n",
    "user_name = input('Enter user name : ')\n",
    "user_password = input('Enter password: ')\n",
    "db_name = input('Enter name of the Database : ')\n",
    "try:\n",
    "\tmydb = mysql.connector.connect(\n",
    "\t\thost=host_name,\n",
    "\t\tuser=user_name,\n",
    "\t\tpassword=user_password,\n",
    "\t\tdatabase=db_name\n",
    "\t)\n",
    "\tprint('Cnnected to : ' + mydb.get_server_info())\n",
    "except:\n",
    "\tprint('One of the entered data is incorrect.')\n",
    "\tquit()\n",
    "\n",
    "query = input('\\nEnter valid query with valid case : ')\n",
    "cursor = mydb.cursor()\n",
    "cursor.execute(query)\n",
    "\n",
    "query_list = query.split()\n",
    "\n",
    "if query_list[0].upper() ==\"SELECT\":\n",
    "\tresult = cursor.fetchall()\n",
    "\tfor x in result:\n",
    "\t\tprint(x)\n",
    "else:\n",
    "\tprint('Query Executed')\n"
   ]
  },
  {
   "cell_type": "markdown",
   "metadata": {},
   "source": [
    "**Report Generator** - Create a utility that generates a report based on some tables in a database. Generates a sales reports based on the order/order details tables or sums up the days current database activity.\n",
    "\n",
    "**Event Scheduler and Calendar** - Make an application which allows the user to enter a date and time of an event, event notes and then schedule those events on a calendar. The user can then browse the calendar or search the calendar for specific events. *Optional: Allow the application to create re-occurrence events that reoccur every day, week, month, year etc.*"
   ]
  },
  {
   "cell_type": "code",
   "execution_count": null,
   "metadata": {},
   "outputs": [],
   "source": [
    "# Event Scheduler and Calendar - stil need to e connected to googe calender \n",
    "import mysql.connector\n",
    "import datetime\n",
    "\n",
    "db = mysql.connector.connect(\n",
    "\thost=\"localhost\",\n",
    "\tuser=\"root\",\n",
    "\tpassword=\"root\"\n",
    ")\n",
    "\n",
    "cursor = db.cursor()\n",
    "\n",
    "year = int(input('Enter a year : '))\n",
    "month = int(input('Enter a month (1-12): '))\n",
    "day = int(input('Enter a day (1-30/31): '))\n",
    "hour = int(input('Enter a hour (1-24): '))\n",
    "minute = int(input('Enter a minute (0-59): '))\n",
    "second = int(input('Enter a second (0-59): '))\n",
    "event_note = input('Enter Event note (max 300): ')\n",
    "\n",
    "\n",
    "event_datetime = str(datetime.datetime(year, month, day, hour, minute, second))\n",
    "\n",
    "query = (\n",
    "\t\"Insert into event_scheduler values ('{}','{}')\".format(event_datetime, event_note)\n",
    ")\n",
    "\n",
    "# cursor.execute(\"USE testDB\")\n",
    "# cursor.execute(\"truncate event_scheduler\")\n",
    "# db.commit()\n",
    "# cursor.execute(\"select * from event_scheduler\")\n",
    "\n",
    "# for i in cursor:\n",
    "# \tprint(i)"
   ]
  },
  {
   "cell_type": "markdown",
   "metadata": {},
   "source": [
    "**Budget Tracker** - Write an application that keeps track of a household’s budget. The user can add expenses, income, and recurring costs to find out how much they are saving or losing over a period of time. *Optional: Allow the user to specify a date range and see the net flow of money in and out of the house budget for that time period.*\n",
    "\n",
    "**TV Show Tracker** - Got a favorite show you don’t want to miss? Don’t have a PVR or want to be able to find the show to then PVR it later? Make an application which can search various online TV Guide sites, locate the shows/times/channels and add them to a database application. The database/website then can send you email reminders that a show is about to start and which channel it will be on.\n",
    "\n",
    "**Travel Planner System** - Make a system that allows users to put together their own little travel itinerary and keep track of the airline / hotel arrangements, points of interest, budget and schedule.\n",
    "\n",
    "\n",
    "Graphics and Multimedia\n",
    "---------\n",
    "\n",
    "**Slide Show** - Make an application that shows various pictures in a slide show format. *Optional: Try adding various effects like fade in/out, star wipe and window blinds transitions.*\n",
    "\n",
    "**Stream Video from Online** - Try to create your own online streaming video player.\n",
    "\n",
    "**Mp3 Player** - A simple program for playing your favorite music files. Add features you think are missing from your favorite music player.\n",
    "\n",
    "**Watermarking Application** - Have some pictures you want copyright protected? Add your own logo or text lightly across the background so that no one can simply steal your graphics off your site. Make a program that will add this watermark to the picture. *Optional: Use threading to process multiple images simultaneously.*\n",
    "\n",
    "**Turtle Graphics** - This is a common project where you create a floor of 20 x 20 squares. Using various commands you tell a turtle to draw a line on the floor. You have move forward, left or right, lift or drop pen etc. Do a search online for \"Turtle Graphics\" for more information. *Optional: Allow the program to read in the list of commands from a file.*\n",
    "\n",
    "**GIF Creator** A program that puts together multiple images (PNGs, JPGs, TIFFs) to make a smooth GIF that can be exported. *Optional: Make the program convert small video files to GIFs as well.*\n",
    "\n",
    "\n",
    "Security\n",
    "-------------\n",
    "\n",
    "**Caesar cipher** - Implement a Caesar cipher, both encoding and decoding. The key is an integer from 1 to 25. This cipher rotates the letters of the alphabet (A to Z). The encoding replaces each letter with the 1st to 25th next letter in the alphabet (wrapping Z to A). So key 2 encrypts \"HI\" to \"JK\", but key 20 encrypts \"HI\" to \"BC\". This simple \"monoalphabetic substitution cipher\" provides almost no security, because an attacker who has the encoded message can either use frequency analysis to guess the key, or just try all 25 keys"
   ]
  },
  {
   "cell_type": "code",
   "execution_count": 11,
   "metadata": {},
   "outputs": [
    {
     "name": "stdout",
     "output_type": "stream",
     "text": [
      "Enter a string to encode or decode : abcd\n",
      "Enter a key (0 < key < 25): 3\n",
      "Encode or decode (E/D): e\n",
      "Cipher text is : defg\n"
     ]
    }
   ],
   "source": [
    "# Ceasar Cipher\n",
    "\n",
    "letters = ['a', 'b', 'c', 'd', 'e', 'f', 'g', 'h', 'i', 'j', 'k', 'l', 'm', 'n', 'o', 'p', 'q', 'r', 's', 't', 'u', 'v', 'w', 'x', 'y', 'z']\n",
    "rev_letters = letters.copy()\n",
    "rev_letters.reverse()\n",
    "\n",
    "def encode(plain_text,key):\n",
    "  cipher_text = ''\n",
    "  for latter in plain_text:\n",
    "    index = letters.index(latter)\n",
    "    new_index = (index + key)%26\n",
    "    cipher_text += letters[new_index]\n",
    "\n",
    "  print('Cipher text is : ' +cipher_text)\n",
    "\n",
    "def decode(cipher_text,key):\n",
    "  plain_text = ''\n",
    "  for latter in cipher_text:\n",
    "    index = rev_letters.index(latter)\n",
    "    new_index = (index + key)%26\n",
    "    plain_text += rev_letters[new_index]\n",
    "  \n",
    "  print('Plain text is : ' +plain_text)\n",
    "\n",
    "\n",
    "string = input('Enter a string to encode or decode : ')\n",
    "key = int(input('Enter a key (0 < key < 25): '))\n",
    "\n",
    "while True:\n",
    "  select = input('Encode or decode (E/D): ').upper()\n",
    "  if select in ['E','D']:\n",
    "    if select == 'E':\n",
    "      encode(string,key)\n",
    "      break\n",
    "    else:\n",
    "      decode(string,key)\n",
    "      break\n",
    "  else:\n",
    "    print('Invalid Input')"
   ]
  }
 ],
 "metadata": {
  "kernelspec": {
   "display_name": "Python 3 (ipykernel)",
   "language": "python",
   "name": "python3"
  },
  "language_info": {
   "codemirror_mode": {
    "name": "ipython",
    "version": 3
   },
   "file_extension": ".py",
   "mimetype": "text/x-python",
   "name": "python",
   "nbconvert_exporter": "python",
   "pygments_lexer": "ipython3",
   "version": "3.9.7"
  }
 },
 "nbformat": 4,
 "nbformat_minor": 1
}
